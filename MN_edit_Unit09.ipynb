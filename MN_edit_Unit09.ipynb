{
  "cells": [
    {
      "cell_type": "markdown",
      "metadata": {
        "id": "Da2m37uHTEjn"
      },
      "source": [
        "![Screenshot%202021-02-04%20at%2010.30.29%20am.png](attachment:Screenshot%202021-02-04%20at%2010.30.29%20am.png)"
      ]
    },
    {
      "cell_type": "markdown",
      "metadata": {
        "id": "2D2pFPdBTEjv"
      },
      "source": [
        "# Convolutional Neural Networks (CNN) - Object Recognition"
      ]
    },
    {
      "cell_type": "markdown",
      "metadata": {
        "id": "dJWAAl9dTEjw"
      },
      "source": [
        "# Imports"
      ]
    },
    {
      "cell_type": "code",
      "execution_count": 1,
      "metadata": {
        "id": "egS0xzSPTEjx"
      },
      "outputs": [],
      "source": [
        "from numpy.random import seed\n",
        "seed(888)\n",
        "\n",
        "#from tensorflow import set_random_seed\n",
        "#set_random_seed(4112)\n",
        "import tensorflow\n",
        "tensorflow.random.set_seed(112)"
      ]
    },
    {
      "cell_type": "code",
      "execution_count": 2,
      "metadata": {
        "id": "2Rz0FXdETEj1"
      },
      "outputs": [],
      "source": [
        "import os\n",
        "import numpy as np\n",
        "import itertools\n",
        "\n",
        "import tensorflow as tf\n",
        "import keras\n",
        "from keras.datasets import cifar100 # importing the dataset\n",
        "\n",
        "from keras.models import Sequential       #to define model/ layers\n",
        "from keras.layers import Dense, Conv2D, MaxPool2D, Flatten\n",
        "\n",
        "from sklearn.metrics import confusion_matrix\n",
        "\n",
        "# To Explore the images\n",
        "from IPython.display import display\n",
        "from keras.preprocessing.image import array_to_img\n",
        "\n",
        "from tensorflow.keras.utils import to_categorical\n",
        "\n",
        "import matplotlib.pyplot as plt\n",
        "%matplotlib inline"
      ]
    },
    {
      "cell_type": "code",
      "execution_count": 3,
      "metadata": {
        "id": "9NKpSa06TEj2"
      },
      "outputs": [],
      "source": [
        "import pandas as pd"
      ]
    },
    {
      "cell_type": "markdown",
      "metadata": {
        "id": "hhji8nSCTEj3"
      },
      "source": [
        "We are using Tensorflow to power Keras"
      ]
    },
    {
      "cell_type": "markdown",
      "metadata": {
        "id": "MBpwD5bPTEj4"
      },
      "source": [
        "# Get the Dataset"
      ]
    },
    {
      "cell_type": "markdown",
      "metadata": {
        "id": "xSa9AstQTEj5"
      },
      "source": [
        "CIFAR-10  is an established computer-vision dataset used for object recognition. It is a subset of the 80 million tiny images dataset and consists of 60,000 32x32 color images containing one of 10 object classes, with 6000 images per class. It was collected by Alex Krizhevsky, Vinod Nair, and Geoffrey Hinton.\n",
        "The dataset is popularly used to train image classification models\n",
        "\n",
        "![Screenshot%202021-02-05%20at%2012.47.25%20pm.png](attachment:Screenshot%202021-02-05%20at%2012.47.25%20pm.png)"
      ]
    },
    {
      "cell_type": "code",
      "execution_count": 48,
      "metadata": {
        "id": "91zlK2v_TEj5"
      },
      "outputs": [],
      "source": [
        "# Getting the dataset as a Tuple\n",
        "\n",
        "(x_train_all, y_train_all), (x_test, y_test) = cifar100.load_data()"
      ]
    },
    {
      "cell_type": "markdown",
      "metadata": {
        "id": "ALW3RnP-TEj6"
      },
      "source": [
        "# Constants"
      ]
    },
    {
      "cell_type": "code",
      "execution_count": 31,
      "metadata": {
        "id": "1lfHfCmATEj6"
      },
      "outputs": [],
      "source": [
        "LABEL_NAMES = ['beaver', 'dolphin', 'otter', 'seal', 'whale',\n",
        "               'aquarium fish', 'flatfish', 'ray', 'shark', 'trout',\n",
        "               'orchids', 'poppies', 'roses', 'sunflowers', 'tulips',\n",
        "               'bottles', 'bowls', 'cans', 'cups', 'plates',\n",
        "               'apples', 'mushrooms', 'oranges', 'pears', 'sweet peppers',\n",
        "               'clock', 'computer keyboard', 'lamp', 'telephone', 'television',\n",
        "               'bed', 'chair', 'couch', 'table', 'wardrobe',\n",
        "               'bee', 'beetle', 'butterfly', 'caterpillar', 'cockroach',\n",
        "               'bear', 'leopard', 'lion', 'tiger', 'wolf',\n",
        "               'bridge', 'castle', 'house', 'road', 'skyscraper',\n",
        "               'cloud', 'forest', 'mountain', 'plain', 'sea',\n",
        "               'camel', 'cattle', 'chimpanzee', 'elephant', 'kangaroo',\n",
        "               'fox', 'porcupine', 'possum', 'raccoon', 'skunk',\n",
        "               'crab', 'lobster', 'snail', 'spider', 'worm',\n",
        "               'baby', 'boy', 'girl', 'man', 'woman',\n",
        "               'crocodile', 'dinosaur', 'lizard', 'snake', 'turtle',\n",
        "               'hamster', 'mouse', 'rabbit', 'shrew', 'squirrel',\n",
        "               'maple', 'oak', 'palm', 'pine', 'willow',\n",
        "               'bicycle', 'bus', 'motorcycle', 'pickup truck', 'train',\n",
        "               'lawn-mower', 'rocket', 'streetcar', 'tank', 'tractor']"
      ]
    },
    {
      "cell_type": "markdown",
      "metadata": {
        "id": "NJjrxpFCTEj7"
      },
      "source": [
        "# Exploring the Data"
      ]
    },
    {
      "cell_type": "markdown",
      "metadata": {
        "id": "VwzH6GeMTEj7"
      },
      "source": [
        "Lets look at the first image in the dataset"
      ]
    },
    {
      "cell_type": "code",
      "execution_count": 32,
      "metadata": {
        "colab": {
          "base_uri": "https://localhost:8080/",
          "height": 91
        },
        "id": "Z8m94U6TTEj7",
        "outputId": "65d9ca2a-0897-401a-ac0e-f63690a39f99"
      },
      "outputs": [
        {
          "output_type": "stream",
          "name": "stdout",
          "text": [
            "plates\n",
            "['apples', 'aquarium fish', 'baby', 'bear', 'beaver', 'bed', 'bee', 'beetle', 'bicycle', 'bottles', 'bowls', 'boy', 'bridge', 'bus', 'butterfly', 'camel', 'cans', 'castle', 'caterpillar', 'cattle', 'chair', 'chimpanzee', 'clock', 'cloud', 'cockroach', 'computer keyboard', 'couch', 'crab', 'crocodile', 'cups', 'dinosaur', 'dolphin', 'elephant', 'flatfish', 'forest', 'fox', 'girl', 'hamster', 'house', 'kangaroo', 'lamp', 'lawn-mower', 'leopard', 'lion', 'lizard', 'lobster', 'man', 'maple', 'motorcycle', 'mountain', 'mouse', 'mushrooms', 'oak', 'oranges', 'orchids', 'otter', 'palm', 'pears', 'pickup truck', 'pine', 'plain', 'plates', 'poppies', 'porcupine', 'possum', 'rabbit', 'raccoon', 'ray', 'road', 'rocket', 'roses', 'sea', 'seal', 'shark', 'shrew', 'skunk', 'skyscraper', 'snail', 'snake', 'spider', 'squirrel', 'streetcar', 'sunflowers', 'sweet peppers', 'table', 'tank', 'telephone', 'television', 'tiger', 'tractor', 'train', 'trout', 'tulips', 'turtle', 'wardrobe', 'whale', 'willow', 'wolf', 'woman', 'worm']\n"
          ]
        },
        {
          "output_type": "execute_result",
          "data": {
            "text/plain": [
              "'cattle'"
            ],
            "application/vnd.google.colaboratory.intrinsic+json": {
              "type": "string"
            }
          },
          "metadata": {},
          "execution_count": 32
        }
      ],
      "source": [
        "x_train_all.shape\n",
        "print(LABEL_NAMES[y_train_all[0][0]])\n",
        "LABEL_NAMES.sort()\n",
        "print(LABEL_NAMES)\n",
        "LABEL_NAMES[y_train_all[0][0]]\n"
      ]
    },
    {
      "cell_type": "code",
      "execution_count": 34,
      "metadata": {
        "scrolled": true,
        "colab": {
          "base_uri": "https://localhost:8080/",
          "height": 511
        },
        "id": "o4-aBV3tTEj9",
        "outputId": "3064f262-0c26-4196-f2e8-9288d1132902"
      },
      "outputs": [
        {
          "output_type": "display_data",
          "data": {
            "text/plain": [
              "<PIL.Image.Image image mode=RGB size=32x32>"
            ],
            "image/png": "[encoded data removed]",
            "image/jpeg": "[encoded data removed]"
          },
          "metadata": {}
        },
        {
          "output_type": "stream",
          "name": "stdout",
          "text": [
            "cattle\n"
          ]
        },
        {
          "output_type": "display_data",
          "data": {
            "text/plain": [
              "<PIL.Image.Image image mode=RGB size=32x32>"
            ],
            "image/png": "[encoded data removed]",
            "image/jpeg": "[encoded data removed]"
          },
          "metadata": {}
        },
        {
          "output_type": "stream",
          "name": "stdout",
          "text": [
            "cups\n"
          ]
        },
        {
          "output_type": "display_data",
          "data": {
            "text/plain": [
              "<PIL.Image.Image image mode=RGB size=32x32>"
            ],
            "image/png": "[encoded data removed]",
            "image/jpeg": "[encoded data removed]"
          },
          "metadata": {}
        },
        {
          "output_type": "stream",
          "name": "stdout",
          "text": [
            "apples\n"
          ]
        },
        {
          "output_type": "display_data",
          "data": {
            "text/plain": [
              "<PIL.Image.Image image mode=RGB size=32x32>"
            ],
            "image/png": "[encoded data removed]",
            "image/jpeg": "[encoded data removed]"
          },
          "metadata": {}
        },
        {
          "output_type": "stream",
          "name": "stdout",
          "text": [
            "boy\n"
          ]
        },
        {
          "output_type": "display_data",
          "data": {
            "text/plain": [
              "<PIL.Image.Image image mode=RGB size=32x32>"
            ],
            "image/png": "[encoded data removed]",
            "image/jpeg": "[encoded data removed]"
          },
          "metadata": {}
        },
        {
          "output_type": "stream",
          "name": "stdout",
          "text": [
            "aquarium fish\n"
          ]
        },
        {
          "output_type": "display_data",
          "data": {
            "text/plain": [
              "<PIL.Image.Image image mode=RGB size=32x32>"
            ],
            "image/png": "[encoded data removed]",
            "image/jpeg": "[encoded data removed]"
          },
          "metadata": {}
        },
        {
          "output_type": "stream",
          "name": "stdout",
          "text": [
            "telephone\n"
          ]
        },
        {
          "output_type": "display_data",
          "data": {
            "text/plain": [
              "<PIL.Image.Image image mode=RGB size=32x32>"
            ],
            "image/png": "[encoded data removed]",
            "image/jpeg": "[encoded data removed]"
          },
          "metadata": {}
        },
        {
          "output_type": "stream",
          "name": "stdout",
          "text": [
            "train\n"
          ]
        },
        {
          "output_type": "display_data",
          "data": {
            "text/plain": [
              "<PIL.Image.Image image mode=RGB size=32x32>"
            ],
            "image/png": "[encoded data removed]",
            "image/jpeg": "[encoded data removed]"
          },
          "metadata": {}
        },
        {
          "output_type": "stream",
          "name": "stdout",
          "text": [
            "crocodile\n"
          ]
        },
        {
          "output_type": "display_data",
          "data": {
            "text/plain": [
              "<PIL.Image.Image image mode=RGB size=32x32>"
            ],
            "image/png": "[encoded data removed]",
            "image/jpeg": "[encoded data removed]"
          },
          "metadata": {}
        },
        {
          "output_type": "stream",
          "name": "stdout",
          "text": [
            "cloud\n"
          ]
        },
        {
          "output_type": "display_data",
          "data": {
            "text/plain": [
              "<PIL.Image.Image image mode=RGB size=32x32>"
            ],
            "image/png": "[encoded data removed]",
            "image/jpeg": "[encoded data removed]"
          },
          "metadata": {}
        },
        {
          "output_type": "stream",
          "name": "stdout",
          "text": [
            "dolphin\n"
          ]
        }
      ],
      "source": [
        "for x in range(10):\n",
        "    display(array_to_img(x_train_all[x]))\n",
        "    print(LABEL_NAMES[y_train_all[x][0]])\n"
      ]
    },
    {
      "cell_type": "code",
      "execution_count": 8,
      "metadata": {
        "colab": {
          "base_uri": "https://localhost:8080/"
        },
        "id": "DP19_Sp3TEj-",
        "outputId": "05697cd8-8435-4e3f-e8d3-d988ca269ef9"
      },
      "outputs": [
        {
          "output_type": "execute_result",
          "data": {
            "text/plain": [
              "(32, 32, 3)"
            ]
          },
          "metadata": {},
          "execution_count": 8
        }
      ],
      "source": [
        "x_train_all[0].shape"
      ]
    },
    {
      "cell_type": "markdown",
      "metadata": {
        "id": "57xBIrjhTEj-"
      },
      "source": [
        "#### Using ipython to display the image"
      ]
    },
    {
      "cell_type": "code",
      "execution_count": 47,
      "metadata": {
        "colab": {
          "base_uri": "https://localhost:8080/",
          "height": 49
        },
        "id": "FMobQULrTEj-",
        "outputId": "b4df25a4-0523-4924-ec4a-2a545e3e7139"
      },
      "outputs": [
        {
          "output_type": "display_data",
          "data": {
            "text/plain": [
              "<PIL.Image.Image image mode=RGB size=32x32>"
            ],
            "image/png": "[encoded data removed]",
            "image/jpeg": "[encoded data removed]"
          },
          "metadata": {}
        }
      ],
      "source": [
        "# To use the ipython display to view an image\n",
        "random_image = np.random.randint(0,len(x_train_all))\n",
        "pic = array_to_img(x_train_all[random_image])\n",
        "display(pic)"
      ]
    },
    {
      "cell_type": "markdown",
      "metadata": {
        "id": "0b6TdOkyTEj_"
      },
      "source": [
        "#### Using Matplotlib to view the image"
      ]
    },
    {
      "cell_type": "code",
      "execution_count": 41,
      "metadata": {
        "colab": {
          "base_uri": "https://localhost:8080/",
          "height": 447
        },
        "id": "ur46hXXITEj_",
        "outputId": "f1c8d6e5-3eb5-464c-9099-a7eda8d1242c"
      },
      "outputs": [
        {
          "output_type": "execute_result",
          "data": {
            "text/plain": [
              "<matplotlib.image.AxesImage at 0x7a60589b3d60>"
            ]
          },
          "metadata": {},
          "execution_count": 41
        },
        {
          "output_type": "display_data",
          "data": {
            "text/plain": [
              "<Figure size 640x480 with 1 Axes>"
            ],
            "image/png": "[encoded data removed]"
          },
          "metadata": {}
        }
      ],
      "source": [
        "plt.imshow(x_train_all[random_image])"
      ]
    },
    {
      "cell_type": "code",
      "execution_count": 12,
      "metadata": {
        "colab": {
          "base_uri": "https://localhost:8080/"
        },
        "id": "286lCnrsTEkA",
        "outputId": "92aaf03a-5d3b-4bbc-9084-3b4c14d9afde"
      },
      "outputs": [
        {
          "output_type": "execute_result",
          "data": {
            "text/plain": [
              "(50000, 1)"
            ]
          },
          "metadata": {},
          "execution_count": 12
        }
      ],
      "source": [
        "# To check the label\n",
        "y_train_all.shape"
      ]
    },
    {
      "cell_type": "code",
      "execution_count": 43,
      "metadata": {
        "colab": {
          "base_uri": "https://localhost:8080/"
        },
        "id": "VC0ynO3ZTEkA",
        "outputId": "22d3d9d3-4a7f-4af8-f200-9c6f47be1986"
      },
      "outputs": [
        {
          "output_type": "execute_result",
          "data": {
            "text/plain": [
              "86"
            ]
          },
          "metadata": {},
          "execution_count": 43
        }
      ],
      "source": [
        "# Note that in the image above the index 1 corresponds to \"Automobile\"\n",
        "# we have a 2 dimension numpy array; that is why we also include \" [0] \"\n",
        "\n",
        "y_train_all[random_image][0]"
      ]
    },
    {
      "cell_type": "code",
      "execution_count": 42,
      "metadata": {
        "colab": {
          "base_uri": "https://localhost:8080/",
          "height": 36
        },
        "id": "sbSII1PaTEkB",
        "outputId": "6b004cc8-4d6e-4253-adc9-b0c8671e287c"
      },
      "outputs": [
        {
          "output_type": "execute_result",
          "data": {
            "text/plain": [
              "'telephone'"
            ],
            "application/vnd.google.colaboratory.intrinsic+json": {
              "type": "string"
            }
          },
          "metadata": {},
          "execution_count": 42
        }
      ],
      "source": [
        "# Using the lable names to get the actual names of classes\n",
        "\n",
        "LABEL_NAMES[y_train_all[random_image][0]]\n"
      ]
    },
    {
      "cell_type": "markdown",
      "metadata": {
        "id": "oC7_e4qITEkB"
      },
      "source": [
        "### The shape of the image\n",
        "    * 32, 32 is the weight and the height\n",
        "    * 3 is the number of channels (These are the number of colors): Red, Green & Blue (RGB)\n",
        "    \n",
        " * x_train_all.shape  >>> (50000, 32, 32, 3)\n",
        "     * this means we have 50,000 entries | then 32x32  weight and height| 3 colors (RGB)"
      ]
    },
    {
      "cell_type": "code",
      "execution_count": 16,
      "metadata": {
        "colab": {
          "base_uri": "https://localhost:8080/"
        },
        "id": "dvOrx3VKTEkB",
        "outputId": "fb268923-ed25-4730-bbe4-b04329e0081a"
      },
      "outputs": [
        {
          "output_type": "execute_result",
          "data": {
            "text/plain": [
              "(50000, 32, 32, 3)"
            ]
          },
          "metadata": {},
          "execution_count": 16
        }
      ],
      "source": [
        "x_train_all.shape"
      ]
    },
    {
      "cell_type": "code",
      "execution_count": 44,
      "metadata": {
        "colab": {
          "base_uri": "https://localhost:8080/"
        },
        "id": "u--m7QUdTEkC",
        "outputId": "c0b2236a-82c0-4901-9d06-7c36f8c80567"
      },
      "outputs": [
        {
          "output_type": "stream",
          "name": "stdout",
          "text": [
            "Number of images = 50000 \t| width = 32 \t| height = 32 \t| channels = 3\n"
          ]
        }
      ],
      "source": [
        "number_of_images, x, y, c = x_train_all.shape\n",
        "print(f'Number of images = {number_of_images} \\t| width = {x} \\t| height = {y} \\t| channels = {c}')"
      ]
    },
    {
      "cell_type": "code",
      "execution_count": 45,
      "metadata": {
        "scrolled": true,
        "colab": {
          "base_uri": "https://localhost:8080/"
        },
        "id": "8-kAD5v1TEkD",
        "outputId": "61f07f1a-b452-4199-d28d-cace1d492303"
      },
      "outputs": [
        {
          "output_type": "execute_result",
          "data": {
            "text/plain": [
              "(10000, 32, 32, 3)"
            ]
          },
          "metadata": {},
          "execution_count": 45
        }
      ],
      "source": [
        "x_test.shape"
      ]
    },
    {
      "cell_type": "markdown",
      "metadata": {
        "id": "2-XCLAwbTEkD"
      },
      "source": [
        "# Preprocess Data"
      ]
    },
    {
      "cell_type": "markdown",
      "metadata": {
        "id": "p8BDmwk5TEkE"
      },
      "source": [
        "#### * We need to preprocess our data so that it is easier to feed it to our neural network.\n"
      ]
    },
    {
      "cell_type": "markdown",
      "metadata": {
        "id": "Ufkn4lrNTEkE"
      },
      "source": [
        "### Scalling both x_train and test\n"
      ]
    },
    {
      "cell_type": "code",
      "execution_count": 50,
      "metadata": {
        "id": "PkfFyatvTEkF",
        "colab": {
          "base_uri": "https://localhost:8080/"
        },
        "outputId": "6f214c69-07e4-43e8-9db2-7f4b9ae12041"
      },
      "outputs": [
        {
          "output_type": "execute_result",
          "data": {
            "text/plain": [
              "array([[[[1.        , 1.        , 1.        ],\n",
              "         [1.        , 1.        , 1.        ],\n",
              "         [1.        , 1.        , 1.        ],\n",
              "         ...,\n",
              "         [0.76470588, 0.80392157, 0.75686275],\n",
              "         [0.83137255, 0.87843137, 0.8       ],\n",
              "         [0.71372549, 0.76078431, 0.65490196]],\n",
              "\n",
              "        [[1.        , 1.        , 1.        ],\n",
              "         [0.99607843, 0.99607843, 0.99607843],\n",
              "         [0.99607843, 0.99607843, 0.99607843],\n",
              "         ...,\n",
              "         [0.66666667, 0.69019608, 0.58823529],\n",
              "         [0.63137255, 0.65882353, 0.50980392],\n",
              "         [0.57254902, 0.60392157, 0.44313725]],\n",
              "\n",
              "        [[1.        , 1.        , 1.        ],\n",
              "         [0.99607843, 0.99607843, 0.99607843],\n",
              "         [1.        , 1.        , 1.        ],\n",
              "         ...,\n",
              "         [0.74117647, 0.78039216, 0.6627451 ],\n",
              "         [0.65098039, 0.69803922, 0.50980392],\n",
              "         [0.4745098 , 0.52156863, 0.34117647]],\n",
              "\n",
              "        ...,\n",
              "\n",
              "        [[0.58039216, 0.7254902 , 0.30980392],\n",
              "         [0.55686275, 0.71372549, 0.22352941],\n",
              "         [0.54901961, 0.70196078, 0.23529412],\n",
              "         ...,\n",
              "         [0.11764706, 0.06666667, 0.00392157],\n",
              "         [0.25490196, 0.24313725, 0.05882353],\n",
              "         [0.29803922, 0.30196078, 0.07843137]],\n",
              "\n",
              "        [[0.47843137, 0.61568627, 0.25882353],\n",
              "         [0.47058824, 0.60784314, 0.22745098],\n",
              "         [0.49411765, 0.62745098, 0.27843137],\n",
              "         ...,\n",
              "         [0.08627451, 0.0627451 , 0.01176471],\n",
              "         [0.38039216, 0.43921569, 0.21960784],\n",
              "         [0.55294118, 0.63137255, 0.34117647]],\n",
              "\n",
              "        [[0.34117647, 0.47843137, 0.16078431],\n",
              "         [0.34509804, 0.47843137, 0.15294118],\n",
              "         [0.39607843, 0.5254902 , 0.21960784],\n",
              "         ...,\n",
              "         [0.13333333, 0.14117647, 0.03921569],\n",
              "         [0.41176471, 0.52156863, 0.23137255],\n",
              "         [0.54117647, 0.67843137, 0.30980392]]],\n",
              "\n",
              "\n",
              "       [[[1.        , 1.        , 1.        ],\n",
              "         [0.99215686, 0.99215686, 0.99215686],\n",
              "         [0.99215686, 0.99215686, 0.99215686],\n",
              "         ...,\n",
              "         [0.99215686, 0.99215686, 0.99215686],\n",
              "         [0.99215686, 0.99215686, 0.99215686],\n",
              "         [1.        , 1.        , 1.        ]],\n",
              "\n",
              "        [[1.        , 1.        , 1.        ],\n",
              "         [1.        , 1.        , 1.        ],\n",
              "         [1.        , 1.        , 1.        ],\n",
              "         ...,\n",
              "         [1.        , 1.        , 1.        ],\n",
              "         [1.        , 1.        , 1.        ],\n",
              "         [1.        , 1.        , 1.        ]],\n",
              "\n",
              "        [[1.        , 1.        , 1.        ],\n",
              "         [1.        , 1.        , 1.        ],\n",
              "         [1.        , 1.        , 1.        ],\n",
              "         ...,\n",
              "         [1.        , 1.        , 1.        ],\n",
              "         [1.        , 1.        , 1.        ],\n",
              "         [1.        , 1.        , 1.        ]],\n",
              "\n",
              "        ...,\n",
              "\n",
              "        [[1.        , 1.        , 1.        ],\n",
              "         [1.        , 1.        , 1.        ],\n",
              "         [1.        , 1.        , 1.        ],\n",
              "         ...,\n",
              "         [1.        , 1.        , 1.        ],\n",
              "         [1.        , 1.        , 1.        ],\n",
              "         [1.        , 1.        , 1.        ]],\n",
              "\n",
              "        [[1.        , 1.        , 1.        ],\n",
              "         [1.        , 1.        , 1.        ],\n",
              "         [1.        , 1.        , 1.        ],\n",
              "         ...,\n",
              "         [1.        , 1.        , 1.        ],\n",
              "         [1.        , 1.        , 1.        ],\n",
              "         [1.        , 1.        , 1.        ]],\n",
              "\n",
              "        [[1.        , 1.        , 1.        ],\n",
              "         [0.99215686, 0.99215686, 0.99215686],\n",
              "         [0.99215686, 0.99215686, 0.99215686],\n",
              "         ...,\n",
              "         [0.99215686, 0.99215686, 0.99215686],\n",
              "         [0.99215686, 0.99215686, 0.99215686],\n",
              "         [1.        , 1.        , 1.        ]]],\n",
              "\n",
              "\n",
              "       [[[0.98039216, 0.98039216, 0.97254902],\n",
              "         [0.97254902, 0.97647059, 0.95294118],\n",
              "         [0.96862745, 0.97254902, 0.9372549 ],\n",
              "         ...,\n",
              "         [0.98039216, 0.98039216, 0.96470588],\n",
              "         [0.98039216, 0.98039216, 0.96470588],\n",
              "         [0.97647059, 0.98039216, 0.96470588]],\n",
              "\n",
              "        [[0.98039216, 0.98431373, 0.96078431],\n",
              "         [0.97254902, 0.97647059, 0.93333333],\n",
              "         [0.96862745, 0.96862745, 0.91764706],\n",
              "         ...,\n",
              "         [0.98431373, 0.98431373, 0.94901961],\n",
              "         [0.98431373, 0.98823529, 0.95294118],\n",
              "         [0.98039216, 0.98431373, 0.95294118]],\n",
              "\n",
              "        [[0.98431373, 0.98431373, 0.95686275],\n",
              "         [0.98039216, 0.97254902, 0.92941176],\n",
              "         [0.98039216, 0.96078431, 0.91372549],\n",
              "         ...,\n",
              "         [0.98039216, 0.97647059, 0.93333333],\n",
              "         [0.98039216, 0.97647059, 0.94117647],\n",
              "         [0.98039216, 0.97647059, 0.94901961]],\n",
              "\n",
              "        ...,\n",
              "\n",
              "        [[0.86666667, 0.83529412, 0.74901961],\n",
              "         [0.86666667, 0.80784314, 0.69019608],\n",
              "         [0.88235294, 0.81176471, 0.70980392],\n",
              "         ...,\n",
              "         [0.78039216, 0.69019608, 0.5254902 ],\n",
              "         [0.81176471, 0.75686275, 0.64705882],\n",
              "         [0.91372549, 0.89803922, 0.88627451]],\n",
              "\n",
              "        [[0.88235294, 0.8745098 , 0.8       ],\n",
              "         [0.89019608, 0.85882353, 0.76862745],\n",
              "         [0.89803922, 0.84705882, 0.78431373],\n",
              "         ...,\n",
              "         [0.8       , 0.7254902 , 0.59215686],\n",
              "         [0.83137255, 0.78823529, 0.70588235],\n",
              "         [0.91764706, 0.90980392, 0.89411765]],\n",
              "\n",
              "        [[0.91372549, 0.91372549, 0.88627451],\n",
              "         [0.91764706, 0.90980392, 0.87843137],\n",
              "         [0.92156863, 0.90196078, 0.88235294],\n",
              "         ...,\n",
              "         [0.85882353, 0.81960784, 0.76078431],\n",
              "         [0.8745098 , 0.84705882, 0.81176471],\n",
              "         [0.90980392, 0.90196078, 0.89411765]]],\n",
              "\n",
              "\n",
              "       ...,\n",
              "\n",
              "\n",
              "       [[[0.97254902, 0.95686275, 0.94901961],\n",
              "         [0.94117647, 0.90980392, 0.8745098 ],\n",
              "         [0.9254902 , 0.90980392, 0.8745098 ],\n",
              "         ...,\n",
              "         [0.91372549, 0.89803922, 0.87058824],\n",
              "         [0.90196078, 0.89411765, 0.87058824],\n",
              "         [0.93333333, 0.92941176, 0.91372549]],\n",
              "\n",
              "        [[0.88235294, 0.83529412, 0.8       ],\n",
              "         [0.72941176, 0.65490196, 0.58431373],\n",
              "         [0.68627451, 0.62352941, 0.54901961],\n",
              "         ...,\n",
              "         [0.63921569, 0.58039216, 0.5254902 ],\n",
              "         [0.61176471, 0.56470588, 0.52156863],\n",
              "         [0.75294118, 0.72156863, 0.69019608]],\n",
              "\n",
              "        [[0.81960784, 0.76078431, 0.70196078],\n",
              "         [0.56470588, 0.47058824, 0.37254902],\n",
              "         [0.54509804, 0.45098039, 0.34117647],\n",
              "         ...,\n",
              "         [0.42745098, 0.3372549 , 0.2627451 ],\n",
              "         [0.42745098, 0.35294118, 0.29803922],\n",
              "         [0.61568627, 0.56862745, 0.52941176]],\n",
              "\n",
              "        ...,\n",
              "\n",
              "        [[0.63137255, 0.62352941, 0.6       ],\n",
              "         [0.15294118, 0.13333333, 0.10980392],\n",
              "         [0.10980392, 0.07843137, 0.05490196],\n",
              "         ...,\n",
              "         [0.36470588, 0.28235294, 0.20784314],\n",
              "         [0.33333333, 0.2627451 , 0.19607843],\n",
              "         [0.53333333, 0.49411765, 0.45098039]],\n",
              "\n",
              "        [[0.70980392, 0.70196078, 0.6745098 ],\n",
              "         [0.3372549 , 0.3254902 , 0.30196078],\n",
              "         [0.27843137, 0.26666667, 0.24313725],\n",
              "         ...,\n",
              "         [0.47843137, 0.40392157, 0.34901961],\n",
              "         [0.41176471, 0.36078431, 0.32156863],\n",
              "         [0.59215686, 0.56862745, 0.55294118]],\n",
              "\n",
              "        [[0.87843137, 0.8745098 , 0.85490196],\n",
              "         [0.70588235, 0.70588235, 0.68627451],\n",
              "         [0.67843137, 0.6745098 , 0.65490196],\n",
              "         ...,\n",
              "         [0.76862745, 0.73333333, 0.70588235],\n",
              "         [0.71764706, 0.69803922, 0.68235294],\n",
              "         [0.8       , 0.80392157, 0.80392157]]],\n",
              "\n",
              "\n",
              "       [[[0.61176471, 0.60392157, 0.5372549 ],\n",
              "         [0.59215686, 0.57254902, 0.48235294],\n",
              "         [0.59215686, 0.56470588, 0.49019608],\n",
              "         ...,\n",
              "         [0.60784314, 0.58823529, 0.50588235],\n",
              "         [0.59607843, 0.58039216, 0.49019608],\n",
              "         [0.72941176, 0.72156863, 0.63921569]],\n",
              "\n",
              "        [[0.43137255, 0.41568627, 0.30196078],\n",
              "         [0.45490196, 0.42352941, 0.24313725],\n",
              "         [0.44705882, 0.39607843, 0.22352941],\n",
              "         ...,\n",
              "         [0.45490196, 0.41568627, 0.23921569],\n",
              "         [0.43529412, 0.40392157, 0.21960784],\n",
              "         [0.5254902 , 0.50588235, 0.36078431]],\n",
              "\n",
              "        [[0.45490196, 0.43921569, 0.32156863],\n",
              "         [0.48627451, 0.4627451 , 0.25882353],\n",
              "         [0.50196078, 0.4627451 , 0.2627451 ],\n",
              "         ...,\n",
              "         [0.38823529, 0.32941176, 0.16862745],\n",
              "         [0.39607843, 0.34117647, 0.16862745],\n",
              "         [0.50588235, 0.4627451 , 0.3372549 ]],\n",
              "\n",
              "        ...,\n",
              "\n",
              "        [[0.42745098, 0.39607843, 0.29019608],\n",
              "         [0.43921569, 0.39215686, 0.21176471],\n",
              "         [0.4627451 , 0.41176471, 0.24313725],\n",
              "         ...,\n",
              "         [0.49411765, 0.44313725, 0.25490196],\n",
              "         [0.49411765, 0.43529412, 0.23921569],\n",
              "         [0.54117647, 0.48627451, 0.34901961]],\n",
              "\n",
              "        [[0.38431373, 0.36078431, 0.24705882],\n",
              "         [0.36470588, 0.32156863, 0.1372549 ],\n",
              "         [0.37647059, 0.3254902 , 0.14901961],\n",
              "         ...,\n",
              "         [0.43921569, 0.37647059, 0.18431373],\n",
              "         [0.42745098, 0.36078431, 0.17647059],\n",
              "         [0.49803922, 0.44313725, 0.31372549]],\n",
              "\n",
              "        [[0.66666667, 0.65490196, 0.56862745],\n",
              "         [0.62745098, 0.6       , 0.4627451 ],\n",
              "         [0.63921569, 0.59607843, 0.46666667],\n",
              "         ...,\n",
              "         [0.63137255, 0.59215686, 0.44705882],\n",
              "         [0.61176471, 0.56470588, 0.41960784],\n",
              "         [0.63921569, 0.60392157, 0.49411765]]],\n",
              "\n",
              "\n",
              "       [[[0.12156863, 0.2627451 , 0.47843137],\n",
              "         [0.11764706, 0.26666667, 0.48627451],\n",
              "         [0.12156863, 0.27058824, 0.49411765],\n",
              "         ...,\n",
              "         [0.1254902 , 0.2745098 , 0.50588235],\n",
              "         [0.1254902 , 0.2745098 , 0.49019608],\n",
              "         [0.1254902 , 0.27058824, 0.47843137]],\n",
              "\n",
              "        [[0.11372549, 0.26666667, 0.49411765],\n",
              "         [0.10980392, 0.27058824, 0.50196078],\n",
              "         [0.11764706, 0.27058824, 0.50980392],\n",
              "         ...,\n",
              "         [0.1254902 , 0.2745098 , 0.51372549],\n",
              "         [0.1254902 , 0.27058824, 0.49803922],\n",
              "         [0.12156863, 0.27058824, 0.48627451]],\n",
              "\n",
              "        [[0.11764706, 0.2627451 , 0.49411765],\n",
              "         [0.11372549, 0.26666667, 0.50196078],\n",
              "         [0.11764706, 0.27058824, 0.50980392],\n",
              "         ...,\n",
              "         [0.1254902 , 0.28235294, 0.51764706],\n",
              "         [0.12156863, 0.2745098 , 0.50980392],\n",
              "         [0.11764706, 0.27058824, 0.49803922]],\n",
              "\n",
              "        ...,\n",
              "\n",
              "        [[0.15294118, 0.16078431, 0.29803922],\n",
              "         [0.14901961, 0.16470588, 0.29803922],\n",
              "         [0.14901961, 0.17254902, 0.30588235],\n",
              "         ...,\n",
              "         [0.15294118, 0.17254902, 0.30980392],\n",
              "         [0.14901961, 0.16470588, 0.30196078],\n",
              "         [0.15294118, 0.16078431, 0.29803922]],\n",
              "\n",
              "        [[0.15686275, 0.15294118, 0.28627451],\n",
              "         [0.15294118, 0.15686275, 0.29019608],\n",
              "         [0.15294118, 0.16078431, 0.29803922],\n",
              "         ...,\n",
              "         [0.15294118, 0.16078431, 0.29803922],\n",
              "         [0.15686275, 0.16078431, 0.29019608],\n",
              "         [0.15686275, 0.15294118, 0.28627451]],\n",
              "\n",
              "        [[0.15686275, 0.15294118, 0.2745098 ],\n",
              "         [0.15686275, 0.15294118, 0.27843137],\n",
              "         [0.15686275, 0.15294118, 0.28235294],\n",
              "         ...,\n",
              "         [0.16078431, 0.14901961, 0.28235294],\n",
              "         [0.15294118, 0.14901961, 0.27058824],\n",
              "         [0.15686275, 0.14509804, 0.2627451 ]]]])"
            ]
          },
          "metadata": {},
          "execution_count": 50
        }
      ],
      "source": [
        "x_train_all =x_train_all / 255.0\n"
      ]
    },
    {
      "cell_type": "code",
      "execution_count": 51,
      "metadata": {
        "id": "dV1RDc4LTEkF"
      },
      "outputs": [],
      "source": [
        "x_test =  x_test / 255.0"
      ]
    },
    {
      "cell_type": "code",
      "execution_count": null,
      "metadata": {
        "colab": {
          "base_uri": "https://localhost:8080/"
        },
        "id": "xl6yM64FTEkG",
        "outputId": "b0ef746e-686c-4d22-a6dd-600e1fa7e945"
      },
      "outputs": [
        {
          "output_type": "execute_result",
          "data": {
            "text/plain": [
              "array([[3],\n",
              "       [8],\n",
              "       [8],\n",
              "       ...,\n",
              "       [5],\n",
              "       [1],\n",
              "       [7]], dtype=uint8)"
            ]
          },
          "metadata": {},
          "execution_count": 19
        }
      ],
      "source": [
        "y_test"
      ]
    },
    {
      "cell_type": "markdown",
      "metadata": {
        "id": "-63wgjO0TEkG"
      },
      "source": [
        "### Creating categorical encoding for the \"y \" data"
      ]
    },
    {
      "cell_type": "code",
      "execution_count": 52,
      "metadata": {
        "id": "igpWaagUTEkH"
      },
      "outputs": [],
      "source": [
        "# 100 >>> simply means we have 100 classes like we already know (creating the encoding for 100 classes)\n",
        "y_cat_train_all = to_categorical(y_train_all,100)"
      ]
    },
    {
      "cell_type": "code",
      "execution_count": 53,
      "metadata": {
        "id": "eAVR_jmkTEkH"
      },
      "outputs": [],
      "source": [
        "# 100 >>> simply means we have 100 classes like we already know (creating the encoding for 100 classes)\n",
        "y_cat_test = to_categorical(y_test,100)"
      ]
    },
    {
      "cell_type": "code",
      "execution_count": null,
      "metadata": {
        "colab": {
          "base_uri": "https://localhost:8080/"
        },
        "id": "APsjLoI1TEkH",
        "outputId": "58d43390-ccbf-41d1-af73-642633cbd828"
      },
      "outputs": [
        {
          "output_type": "execute_result",
          "data": {
            "text/plain": [
              "array([[0., 0., 0., ..., 0., 0., 0.],\n",
              "       [0., 0., 0., ..., 0., 0., 1.],\n",
              "       [0., 0., 0., ..., 0., 0., 1.],\n",
              "       ...,\n",
              "       [0., 0., 0., ..., 0., 0., 1.],\n",
              "       [0., 1., 0., ..., 0., 0., 0.],\n",
              "       [0., 1., 0., ..., 0., 0., 0.]])"
            ]
          },
          "metadata": {},
          "execution_count": 22
        }
      ],
      "source": [
        "y_cat_train_all"
      ]
    },
    {
      "cell_type": "markdown",
      "metadata": {
        "id": "Bz0DAWN1TEkI"
      },
      "source": [
        "# Creating the Validation dataset\n",
        "![Screenshot%202021-02-05%20at%206.37.47%20pm.png](attachment:Screenshot%202021-02-05%20at%206.37.47%20pm.png)"
      ]
    },
    {
      "cell_type": "markdown",
      "metadata": {
        "id": "3pmjqKniTEkR"
      },
      "source": [
        "For small data we usually go with:\n",
        "    * 60% for Training\n",
        "    * 20% Validation\n",
        "    * 20% Testing\n",
        "    \n",
        "Only the final selected model gets to see the testing data. This helps us to ensure that we have close to real data in real-world when the model is deployed. Only our best model gets to see our testing dataset. Because it will give us a realistic impression of how our model will do in the real world\n",
        "___\n",
        "\n",
        "However, if the dataset is enormous.:\n",
        "    * 1% for is used for validation\n",
        "    * 1% for is used for testing"
      ]
    },
    {
      "cell_type": "code",
      "execution_count": 55,
      "metadata": {
        "id": "3SYuUJSaTEkS"
      },
      "outputs": [],
      "source": [
        "VALIDATION_SIZE = 10000"
      ]
    },
    {
      "cell_type": "code",
      "execution_count": 56,
      "metadata": {
        "colab": {
          "base_uri": "https://localhost:8080/"
        },
        "id": "Rc_Ojvd1TEkS",
        "outputId": "ea29e3bb-bd5b-4ca1-9199-1c323a98048f"
      },
      "outputs": [
        {
          "output_type": "execute_result",
          "data": {
            "text/plain": [
              "(10000, 32, 32, 3)"
            ]
          },
          "metadata": {},
          "execution_count": 56
        }
      ],
      "source": [
        "# VALIDATION_SIZE = 10,000 as defined above\n",
        "\n",
        "x_val = x_train_all[:VALIDATION_SIZE]\n",
        "y_val_cat = y_cat_train_all[:VALIDATION_SIZE]\n",
        "x_val.shape"
      ]
    },
    {
      "cell_type": "code",
      "execution_count": 57,
      "metadata": {
        "colab": {
          "base_uri": "https://localhost:8080/"
        },
        "id": "mA-kXR9kTEkT",
        "outputId": "872f122f-418b-4e12-e87d-0d3a04cc6a2b"
      },
      "outputs": [
        {
          "output_type": "execute_result",
          "data": {
            "text/plain": [
              "array([[0., 0., 0., ..., 0., 0., 0.],\n",
              "       [0., 0., 0., ..., 0., 0., 0.],\n",
              "       [1., 0., 0., ..., 0., 0., 0.],\n",
              "       ...,\n",
              "       [0., 0., 0., ..., 0., 0., 0.],\n",
              "       [0., 0., 0., ..., 0., 0., 0.],\n",
              "       [0., 0., 0., ..., 0., 0., 0.]])"
            ]
          },
          "metadata": {},
          "execution_count": 57
        }
      ],
      "source": [
        "y_val_cat"
      ]
    },
    {
      "cell_type": "markdown",
      "metadata": {
        "id": "QTvrNVdOTEkT"
      },
      "source": [
        "<b>NEXT:</b>\n",
        "* We Create two NumPy arrays x_train and y_train that have the shape(40000, 3072) and (40000,1) respectively.\n",
        "* They will contain the last 40000 values from x_train_all and y_train_all respectively"
      ]
    },
    {
      "cell_type": "code",
      "execution_count": 58,
      "metadata": {
        "id": "8eSU2bisTEkU"
      },
      "outputs": [],
      "source": [
        "x_train = x_train_all[VALIDATION_SIZE:]\n",
        "y_cat_train= y_cat_train_all[VALIDATION_SIZE:]"
      ]
    },
    {
      "cell_type": "code",
      "execution_count": 59,
      "metadata": {
        "id": "sAUYNp8DTEkU",
        "outputId": "f5261133-18e8-402e-ecc4-516e11e5d652",
        "colab": {
          "base_uri": "https://localhost:8080/"
        }
      },
      "outputs": [
        {
          "output_type": "execute_result",
          "data": {
            "text/plain": [
              "(40000, 32, 32, 3)"
            ]
          },
          "metadata": {},
          "execution_count": 59
        }
      ],
      "source": [
        "x_train.shape"
      ]
    },
    {
      "cell_type": "code",
      "execution_count": null,
      "metadata": {
        "id": "E4rUWk0tTEkV",
        "outputId": "ab38fdbc-5329-48b6-dc2c-f1eaccceb8eb"
      },
      "outputs": [
        {
          "data": {
            "text/plain": [
              "array([[0., 1., 0., ..., 0., 0., 0.],\n",
              "       [0., 0., 0., ..., 0., 0., 0.],\n",
              "       [0., 0., 0., ..., 0., 0., 0.],\n",
              "       ...,\n",
              "       [0., 0., 0., ..., 0., 0., 1.],\n",
              "       [0., 1., 0., ..., 0., 0., 0.],\n",
              "       [0., 1., 0., ..., 0., 0., 0.]], dtype=float32)"
            ]
          },
          "execution_count": 28,
          "metadata": {},
          "output_type": "execute_result"
        }
      ],
      "source": [
        "y_cat_train"
      ]
    },
    {
      "cell_type": "markdown",
      "metadata": {
        "id": "nxBjisYkTEkW"
      },
      "source": [
        " ![Screenshot%202021-02-15%20at%208.04.47%20pm.png](attachment:Screenshot%202021-02-15%20at%208.04.47%20pm.png)\n",
        " ## NOTE:\n",
        " <h4>* <em>FILTERS: </em>\n",
        "    Typical values for the number of filters can be determined by the data set's complexity. So essentially the larger the images, the more variety and the more classes you're trying to classify then the more filters you should have.</h4>\n",
        "   <h4> * Most times people typically pick filter based on powers of 2, for example, 32. However, if you have more complex data like road signs etc. you should be starting with a higher filter value</h4>\n",
        "   <h4>The default STRIDE value is 1 x 1 pixel</h4>"
      ]
    },
    {
      "cell_type": "markdown",
      "metadata": {
        "id": "Z1J2r1ZYTEkW"
      },
      "source": [
        "# BUILDING THE MODEL"
      ]
    },
    {
      "cell_type": "code",
      "execution_count": 65,
      "metadata": {
        "id": "yQByuPaETEkX"
      },
      "outputs": [],
      "source": [
        "model = Sequential()\n",
        "\n",
        "## ************* FIRST SET OF LAYERS *************************\n",
        "\n",
        "# CONVOLUTIONAL LAYER\n",
        "model.add(Conv2D(filters=32, kernel_size=(4,4),input_shape=(32, 32, 3), activation='relu',))\n",
        "# POOLING LAYER\n",
        "model.add(MaxPool2D(pool_size=(2, 2)))\n",
        "\n",
        "## *************** SECOND SET OF LAYERS ***********************\n",
        "#Since the shape of the data is 32 x 32 x 3 =3072 ...\n",
        "#We need to deal with this more complex structure by adding yet another convolutional layer\n",
        "\n",
        "# *************CONVOLUTIONAL LAYER\n",
        "model.add(Conv2D(filters=32, kernel_size=(4,4),input_shape=(32, 32, 3), activation='relu',))\n",
        "# POOLING LAYER\n",
        "model.add(MaxPool2D(pool_size=(2, 2)))\n",
        "\n",
        "# FLATTEN IMAGES FROM 32 x 32 x 3 =3072 BEFORE FINAL LAYER\n",
        "model.add(Flatten())\n",
        "\n",
        "# 256 NEURONS IN DENSE HIDDEN LAYER (YOU CAN CHANGE THIS NUMBER OF NEURONS)\n",
        "model.add(Dense(256, activation='relu'))\n",
        "\n",
        "# LAST LAYER IS THE CLASSIFIER, THUS 10 POSSIBLE CLASSES\n",
        "model.add(Dense(100, activation='softmax'))\n",
        "\n",
        "\n",
        "model.compile(loss='categorical_crossentropy',\n",
        "              optimizer='adam',\n",
        "              metrics=['accuracy'])"
      ]
    },
    {
      "cell_type": "code",
      "execution_count": 66,
      "metadata": {
        "colab": {
          "base_uri": "https://localhost:8080/",
          "height": 349
        },
        "id": "6VOd1gASTEkX",
        "outputId": "66f52edb-1148-44d9-bace-f39a8056c448"
      },
      "outputs": [
        {
          "output_type": "display_data",
          "data": {
            "text/plain": [
              "\u001b[1mModel: \"sequential_1\"\u001b[0m\n"
            ],
            "text/html": [
              "<pre style=\"white-space:pre;overflow-x:auto;line-height:normal;font-family:Menlo,'DejaVu Sans Mono',consolas,'Courier New',monospace\"><span style=\"font-weight: bold\">Model: \"sequential_1\"</span>\n",
              "</pre>\n"
            ]
          },
          "metadata": {}
        },
        {
          "output_type": "display_data",
          "data": {
            "text/plain": [
              "┏━━━━━━━━━━━━━━━━━━━━━━━━━━━━━━━━━━━━━━┳━━━━━━━━━━━━━━━━━━━━━━━━━━━━━┳━━━━━━━━━━━━━━━━━┓\n",
              "┃\u001b[1m \u001b[0m\u001b[1mLayer (type)                        \u001b[0m\u001b[1m \u001b[0m┃\u001b[1m \u001b[0m\u001b[1mOutput Shape               \u001b[0m\u001b[1m \u001b[0m┃\u001b[1m \u001b[0m\u001b[1m        Param #\u001b[0m\u001b[1m \u001b[0m┃\n",
              "┡━━━━━━━━━━━━━━━━━━━━━━━━━━━━━━━━━━━━━━╇━━━━━━━━━━━━━━━━━━━━━━━━━━━━━╇━━━━━━━━━━━━━━━━━┩\n",
              "│ conv2d_2 (\u001b[38;5;33mConv2D\u001b[0m)                    │ (\u001b[38;5;45mNone\u001b[0m, \u001b[38;5;34m29\u001b[0m, \u001b[38;5;34m29\u001b[0m, \u001b[38;5;34m32\u001b[0m)          │           \u001b[38;5;34m1,568\u001b[0m │\n",
              "├──────────────────────────────────────┼─────────────────────────────┼─────────────────┤\n",
              "│ max_pooling2d_2 (\u001b[38;5;33mMaxPooling2D\u001b[0m)       │ (\u001b[38;5;45mNone\u001b[0m, \u001b[38;5;34m14\u001b[0m, \u001b[38;5;34m14\u001b[0m, \u001b[38;5;34m32\u001b[0m)          │               \u001b[38;5;34m0\u001b[0m │\n",
              "├──────────────────────────────────────┼─────────────────────────────┼─────────────────┤\n",
              "│ conv2d_3 (\u001b[38;5;33mConv2D\u001b[0m)                    │ (\u001b[38;5;45mNone\u001b[0m, \u001b[38;5;34m11\u001b[0m, \u001b[38;5;34m11\u001b[0m, \u001b[38;5;34m32\u001b[0m)          │          \u001b[38;5;34m16,416\u001b[0m │\n",
              "├──────────────────────────────────────┼─────────────────────────────┼─────────────────┤\n",
              "│ max_pooling2d_3 (\u001b[38;5;33mMaxPooling2D\u001b[0m)       │ (\u001b[38;5;45mNone\u001b[0m, \u001b[38;5;34m5\u001b[0m, \u001b[38;5;34m5\u001b[0m, \u001b[38;5;34m32\u001b[0m)            │               \u001b[38;5;34m0\u001b[0m │\n",
              "├──────────────────────────────────────┼─────────────────────────────┼─────────────────┤\n",
              "│ flatten_1 (\u001b[38;5;33mFlatten\u001b[0m)                  │ (\u001b[38;5;45mNone\u001b[0m, \u001b[38;5;34m800\u001b[0m)                 │               \u001b[38;5;34m0\u001b[0m │\n",
              "├──────────────────────────────────────┼─────────────────────────────┼─────────────────┤\n",
              "│ dense_2 (\u001b[38;5;33mDense\u001b[0m)                      │ (\u001b[38;5;45mNone\u001b[0m, \u001b[38;5;34m256\u001b[0m)                 │         \u001b[38;5;34m205,056\u001b[0m │\n",
              "├──────────────────────────────────────┼─────────────────────────────┼─────────────────┤\n",
              "│ dense_3 (\u001b[38;5;33mDense\u001b[0m)                      │ (\u001b[38;5;45mNone\u001b[0m, \u001b[38;5;34m100\u001b[0m)                 │          \u001b[38;5;34m25,700\u001b[0m │\n",
              "└──────────────────────────────────────┴─────────────────────────────┴─────────────────┘\n"
            ],
            "text/html": [
              "<pre style=\"white-space:pre;overflow-x:auto;line-height:normal;font-family:Menlo,'DejaVu Sans Mono',consolas,'Courier New',monospace\">┏━━━━━━━━━━━━━━━━━━━━━━━━━━━━━━━━━━━━━━┳━━━━━━━━━━━━━━━━━━━━━━━━━━━━━┳━━━━━━━━━━━━━━━━━┓\n",
              "┃<span style=\"font-weight: bold\"> Layer (type)                         </span>┃<span style=\"font-weight: bold\"> Output Shape                </span>┃<span style=\"font-weight: bold\">         Param # </span>┃\n",
              "┡━━━━━━━━━━━━━━━━━━━━━━━━━━━━━━━━━━━━━━╇━━━━━━━━━━━━━━━━━━━━━━━━━━━━━╇━━━━━━━━━━━━━━━━━┩\n",
              "│ conv2d_2 (<span style=\"color: #0087ff; text-decoration-color: #0087ff\">Conv2D</span>)                    │ (<span style=\"color: #00d7ff; text-decoration-color: #00d7ff\">None</span>, <span style=\"color: #00af00; text-decoration-color: #00af00\">29</span>, <span style=\"color: #00af00; text-decoration-color: #00af00\">29</span>, <span style=\"color: #00af00; text-decoration-color: #00af00\">32</span>)          │           <span style=\"color: #00af00; text-decoration-color: #00af00\">1,568</span> │\n",
              "├──────────────────────────────────────┼─────────────────────────────┼─────────────────┤\n",
              "│ max_pooling2d_2 (<span style=\"color: #0087ff; text-decoration-color: #0087ff\">MaxPooling2D</span>)       │ (<span style=\"color: #00d7ff; text-decoration-color: #00d7ff\">None</span>, <span style=\"color: #00af00; text-decoration-color: #00af00\">14</span>, <span style=\"color: #00af00; text-decoration-color: #00af00\">14</span>, <span style=\"color: #00af00; text-decoration-color: #00af00\">32</span>)          │               <span style=\"color: #00af00; text-decoration-color: #00af00\">0</span> │\n",
              "├──────────────────────────────────────┼─────────────────────────────┼─────────────────┤\n",
              "│ conv2d_3 (<span style=\"color: #0087ff; text-decoration-color: #0087ff\">Conv2D</span>)                    │ (<span style=\"color: #00d7ff; text-decoration-color: #00d7ff\">None</span>, <span style=\"color: #00af00; text-decoration-color: #00af00\">11</span>, <span style=\"color: #00af00; text-decoration-color: #00af00\">11</span>, <span style=\"color: #00af00; text-decoration-color: #00af00\">32</span>)          │          <span style=\"color: #00af00; text-decoration-color: #00af00\">16,416</span> │\n",
              "├──────────────────────────────────────┼─────────────────────────────┼─────────────────┤\n",
              "│ max_pooling2d_3 (<span style=\"color: #0087ff; text-decoration-color: #0087ff\">MaxPooling2D</span>)       │ (<span style=\"color: #00d7ff; text-decoration-color: #00d7ff\">None</span>, <span style=\"color: #00af00; text-decoration-color: #00af00\">5</span>, <span style=\"color: #00af00; text-decoration-color: #00af00\">5</span>, <span style=\"color: #00af00; text-decoration-color: #00af00\">32</span>)            │               <span style=\"color: #00af00; text-decoration-color: #00af00\">0</span> │\n",
              "├──────────────────────────────────────┼─────────────────────────────┼─────────────────┤\n",
              "│ flatten_1 (<span style=\"color: #0087ff; text-decoration-color: #0087ff\">Flatten</span>)                  │ (<span style=\"color: #00d7ff; text-decoration-color: #00d7ff\">None</span>, <span style=\"color: #00af00; text-decoration-color: #00af00\">800</span>)                 │               <span style=\"color: #00af00; text-decoration-color: #00af00\">0</span> │\n",
              "├──────────────────────────────────────┼─────────────────────────────┼─────────────────┤\n",
              "│ dense_2 (<span style=\"color: #0087ff; text-decoration-color: #0087ff\">Dense</span>)                      │ (<span style=\"color: #00d7ff; text-decoration-color: #00d7ff\">None</span>, <span style=\"color: #00af00; text-decoration-color: #00af00\">256</span>)                 │         <span style=\"color: #00af00; text-decoration-color: #00af00\">205,056</span> │\n",
              "├──────────────────────────────────────┼─────────────────────────────┼─────────────────┤\n",
              "│ dense_3 (<span style=\"color: #0087ff; text-decoration-color: #0087ff\">Dense</span>)                      │ (<span style=\"color: #00d7ff; text-decoration-color: #00d7ff\">None</span>, <span style=\"color: #00af00; text-decoration-color: #00af00\">100</span>)                 │          <span style=\"color: #00af00; text-decoration-color: #00af00\">25,700</span> │\n",
              "└──────────────────────────────────────┴─────────────────────────────┴─────────────────┘\n",
              "</pre>\n"
            ]
          },
          "metadata": {}
        },
        {
          "output_type": "display_data",
          "data": {
            "text/plain": [
              "\u001b[1m Total params: \u001b[0m\u001b[38;5;34m248,740\u001b[0m (971.64 KB)\n"
            ],
            "text/html": [
              "<pre style=\"white-space:pre;overflow-x:auto;line-height:normal;font-family:Menlo,'DejaVu Sans Mono',consolas,'Courier New',monospace\"><span style=\"font-weight: bold\"> Total params: </span><span style=\"color: #00af00; text-decoration-color: #00af00\">248,740</span> (971.64 KB)\n",
              "</pre>\n"
            ]
          },
          "metadata": {}
        },
        {
          "output_type": "display_data",
          "data": {
            "text/plain": [
              "\u001b[1m Trainable params: \u001b[0m\u001b[38;5;34m248,740\u001b[0m (971.64 KB)\n"
            ],
            "text/html": [
              "<pre style=\"white-space:pre;overflow-x:auto;line-height:normal;font-family:Menlo,'DejaVu Sans Mono',consolas,'Courier New',monospace\"><span style=\"font-weight: bold\"> Trainable params: </span><span style=\"color: #00af00; text-decoration-color: #00af00\">248,740</span> (971.64 KB)\n",
              "</pre>\n"
            ]
          },
          "metadata": {}
        },
        {
          "output_type": "display_data",
          "data": {
            "text/plain": [
              "\u001b[1m Non-trainable params: \u001b[0m\u001b[38;5;34m0\u001b[0m (0.00 B)\n"
            ],
            "text/html": [
              "<pre style=\"white-space:pre;overflow-x:auto;line-height:normal;font-family:Menlo,'DejaVu Sans Mono',consolas,'Courier New',monospace\"><span style=\"font-weight: bold\"> Non-trainable params: </span><span style=\"color: #00af00; text-decoration-color: #00af00\">0</span> (0.00 B)\n",
              "</pre>\n"
            ]
          },
          "metadata": {}
        }
      ],
      "source": [
        "model.summary()"
      ]
    },
    {
      "cell_type": "markdown",
      "metadata": {
        "id": "8Qx-d2iNTEkY"
      },
      "source": [
        "### Adding Early stopping"
      ]
    },
    {
      "cell_type": "code",
      "execution_count": 62,
      "metadata": {
        "id": "0foQSX-RTEkY"
      },
      "outputs": [],
      "source": [
        "from tensorflow.keras.callbacks import EarlyStopping"
      ]
    },
    {
      "cell_type": "code",
      "execution_count": 67,
      "metadata": {
        "id": "sksmofvZTEkZ"
      },
      "outputs": [],
      "source": [
        "early_stop = EarlyStopping(monitor='val_loss',patience=2)"
      ]
    },
    {
      "cell_type": "code",
      "execution_count": 68,
      "metadata": {
        "colab": {
          "base_uri": "https://localhost:8080/"
        },
        "id": "JOb06913TEkZ",
        "outputId": "130f8ef1-b494-4b89-a7ab-dfdf12719e2f"
      },
      "outputs": [
        {
          "output_type": "stream",
          "name": "stdout",
          "text": [
            "Epoch 1/25\n",
            "\u001b[1m1250/1250\u001b[0m \u001b[32m━━━━━━━━━━━━━━━━━━━━\u001b[0m\u001b[37m\u001b[0m \u001b[1m57s\u001b[0m 44ms/step - accuracy: 0.0746 - loss: 4.1391 - val_accuracy: 0.1868 - val_loss: 3.3999\n",
            "Epoch 2/25\n",
            "\u001b[1m1250/1250\u001b[0m \u001b[32m━━━━━━━━━━━━━━━━━━━━\u001b[0m\u001b[37m\u001b[0m \u001b[1m81s\u001b[0m 44ms/step - accuracy: 0.2167 - loss: 3.2467 - val_accuracy: 0.2410 - val_loss: 3.1186\n",
            "Epoch 3/25\n",
            "\u001b[1m1250/1250\u001b[0m \u001b[32m━━━━━━━━━━━━━━━━━━━━\u001b[0m\u001b[37m\u001b[0m \u001b[1m82s\u001b[0m 44ms/step - accuracy: 0.2816 - loss: 2.9075 - val_accuracy: 0.2636 - val_loss: 3.0238\n",
            "Epoch 4/25\n",
            "\u001b[1m1250/1250\u001b[0m \u001b[32m━━━━━━━━━━━━━━━━━━━━\u001b[0m\u001b[37m\u001b[0m \u001b[1m55s\u001b[0m 44ms/step - accuracy: 0.3255 - loss: 2.6866 - val_accuracy: 0.2746 - val_loss: 2.9704\n",
            "Epoch 5/25\n",
            "\u001b[1m1250/1250\u001b[0m \u001b[32m━━━━━━━━━━━━━━━━━━━━\u001b[0m\u001b[37m\u001b[0m \u001b[1m82s\u001b[0m 44ms/step - accuracy: 0.3632 - loss: 2.5154 - val_accuracy: 0.2826 - val_loss: 2.9456\n",
            "Epoch 6/25\n",
            "\u001b[1m1250/1250\u001b[0m \u001b[32m━━━━━━━━━━━━━━━━━━━━\u001b[0m\u001b[37m\u001b[0m \u001b[1m84s\u001b[0m 45ms/step - accuracy: 0.3899 - loss: 2.3804 - val_accuracy: 0.2943 - val_loss: 2.9540\n",
            "Epoch 7/25\n",
            "\u001b[1m1250/1250\u001b[0m \u001b[32m━━━━━━━━━━━━━━━━━━━━\u001b[0m\u001b[37m\u001b[0m \u001b[1m80s\u001b[0m 44ms/step - accuracy: 0.4176 - loss: 2.2588 - val_accuracy: 0.2908 - val_loss: 3.0154\n"
          ]
        }
      ],
      "source": [
        "history = model.fit(x_train,y_cat_train,epochs=25,validation_data=(x_val,y_val_cat),callbacks=[early_stop])"
      ]
    },
    {
      "cell_type": "code",
      "execution_count": 69,
      "metadata": {
        "colab": {
          "base_uri": "https://localhost:8080/"
        },
        "id": "8SDwM8atTEkZ",
        "outputId": "b3a1586b-85f3-4546-a6ac-aa6724f97ad7"
      },
      "outputs": [
        {
          "output_type": "execute_result",
          "data": {
            "text/plain": [
              "dict_keys(['accuracy', 'loss', 'val_accuracy', 'val_loss'])"
            ]
          },
          "metadata": {},
          "execution_count": 69
        }
      ],
      "source": [
        "model.history.history.keys()"
      ]
    },
    {
      "cell_type": "code",
      "execution_count": 70,
      "metadata": {
        "id": "jqNgk9umTEka"
      },
      "outputs": [],
      "source": [
        "metrics = pd.DataFrame(model.history.history)"
      ]
    },
    {
      "cell_type": "code",
      "execution_count": 71,
      "metadata": {
        "colab": {
          "base_uri": "https://localhost:8080/",
          "height": 269
        },
        "id": "2NrDHjbfTEka",
        "outputId": "dfaa7d4d-9290-4de8-904d-882f6de5daee"
      },
      "outputs": [
        {
          "output_type": "execute_result",
          "data": {
            "text/plain": [
              "   accuracy      loss  val_accuracy  val_loss\n",
              "0  0.123200  3.809070        0.1868  3.399894\n",
              "1  0.238025  3.140381        0.2410  3.118555\n",
              "2  0.294825  2.842417        0.2636  3.023823\n",
              "3  0.334850  2.643597        0.2746  2.970402\n",
              "4  0.369325  2.485582        0.2826  2.945551\n",
              "5  0.396075  2.356864        0.2943  2.954024\n",
              "6  0.420525  2.243292        0.2908  3.015435"
            ],
            "text/html": [
              "\n",
              "  <div id=\"df-61b57c74-038b-4518-8242-89b06b0ccfca\" class=\"colab-df-container\">\n",
              "    <div>\n",
              "<style scoped>\n",
              "    .dataframe tbody tr th:only-of-type {\n",
              "        vertical-align: middle;\n",
              "    }\n",
              "\n",
              "    .dataframe tbody tr th {\n",
              "        vertical-align: top;\n",
              "    }\n",
              "\n",
              "    .dataframe thead th {\n",
              "        text-align: right;\n",
              "    }\n",
              "</style>\n",
              "<table border=\"1\" class=\"dataframe\">\n",
              "  <thead>\n",
              "    <tr style=\"text-align: right;\">\n",
              "      <th></th>\n",
              "      <th>accuracy</th>\n",
              "      <th>loss</th>\n",
              "      <th>val_accuracy</th>\n",
              "      <th>val_loss</th>\n",
              "    </tr>\n",
              "  </thead>\n",
              "  <tbody>\n",
              "    <tr>\n",
              "      <th>0</th>\n",
              "      <td>0.123200</td>\n",
              "      <td>3.809070</td>\n",
              "      <td>0.1868</td>\n",
              "      <td>3.399894</td>\n",
              "    </tr>\n",
              "    <tr>\n",
              "      <th>1</th>\n",
              "      <td>0.238025</td>\n",
              "      <td>3.140381</td>\n",
              "      <td>0.2410</td>\n",
              "      <td>3.118555</td>\n",
              "    </tr>\n",
              "    <tr>\n",
              "      <th>2</th>\n",
              "      <td>0.294825</td>\n",
              "      <td>2.842417</td>\n",
              "      <td>0.2636</td>\n",
              "      <td>3.023823</td>\n",
              "    </tr>\n",
              "    <tr>\n",
              "      <th>3</th>\n",
              "      <td>0.334850</td>\n",
              "      <td>2.643597</td>\n",
              "      <td>0.2746</td>\n",
              "      <td>2.970402</td>\n",
              "    </tr>\n",
              "    <tr>\n",
              "      <th>4</th>\n",
              "      <td>0.369325</td>\n",
              "      <td>2.485582</td>\n",
              "      <td>0.2826</td>\n",
              "      <td>2.945551</td>\n",
              "    </tr>\n",
              "    <tr>\n",
              "      <th>5</th>\n",
              "      <td>0.396075</td>\n",
              "      <td>2.356864</td>\n",
              "      <td>0.2943</td>\n",
              "      <td>2.954024</td>\n",
              "    </tr>\n",
              "    <tr>\n",
              "      <th>6</th>\n",
              "      <td>0.420525</td>\n",
              "      <td>2.243292</td>\n",
              "      <td>0.2908</td>\n",
              "      <td>3.015435</td>\n",
              "    </tr>\n",
              "  </tbody>\n",
              "</table>\n",
              "</div>\n",
              "    <div class=\"colab-df-buttons\">\n",
              "\n",
              "  <div class=\"colab-df-container\">\n",
              "    <button class=\"colab-df-convert\" onclick=\"convertToInteractive('df-61b57c74-038b-4518-8242-89b06b0ccfca')\"\n",
              "            title=\"Convert this dataframe to an interactive table.\"\n",
              "            style=\"display:none;\">\n",
              "\n",
              "  <svg xmlns=\"http://www.w3.org/2000/svg\" height=\"24px\" viewBox=\"0 -960 960 960\">\n",
              "    <path d=\"M120-120v-720h720v720H120Zm60-500h600v-160H180v160Zm220 220h160v-160H400v160Zm0 220h160v-160H400v160ZM180-400h160v-160H180v160Zm440 0h160v-160H620v160ZM180-180h160v-160H180v160Zm440 0h160v-160H620v160Z\"/>\n",
              "  </svg>\n",
              "    </button>\n",
              "\n",
              "  <style>\n",
              "    .colab-df-container {\n",
              "      display:flex;\n",
              "      gap: 12px;\n",
              "    }\n",
              "\n",
              "    .colab-df-convert {\n",
              "      background-color: #E8F0FE;\n",
              "      border: none;\n",
              "      border-radius: 50%;\n",
              "      cursor: pointer;\n",
              "      display: none;\n",
              "      fill: #1967D2;\n",
              "      height: 32px;\n",
              "      padding: 0 0 0 0;\n",
              "      width: 32px;\n",
              "    }\n",
              "\n",
              "    .colab-df-convert:hover {\n",
              "      background-color: #E2EBFA;\n",
              "      box-shadow: 0px 1px 2px rgba(60, 64, 67, 0.3), 0px 1px 3px 1px rgba(60, 64, 67, 0.15);\n",
              "      fill: #174EA6;\n",
              "    }\n",
              "\n",
              "    .colab-df-buttons div {\n",
              "      margin-bottom: 4px;\n",
              "    }\n",
              "\n",
              "    [theme=dark] .colab-df-convert {\n",
              "      background-color: #3B4455;\n",
              "      fill: #D2E3FC;\n",
              "    }\n",
              "\n",
              "    [theme=dark] .colab-df-convert:hover {\n",
              "      background-color: #434B5C;\n",
              "      box-shadow: 0px 1px 3px 1px rgba(0, 0, 0, 0.15);\n",
              "      filter: drop-shadow(0px 1px 2px rgba(0, 0, 0, 0.3));\n",
              "      fill: #FFFFFF;\n",
              "    }\n",
              "  </style>\n",
              "\n",
              "    <script>\n",
              "      const buttonEl =\n",
              "        document.querySelector('#df-61b57c74-038b-4518-8242-89b06b0ccfca button.colab-df-convert');\n",
              "      buttonEl.style.display =\n",
              "        google.colab.kernel.accessAllowed ? 'block' : 'none';\n",
              "\n",
              "      async function convertToInteractive(key) {\n",
              "        const element = document.querySelector('#df-61b57c74-038b-4518-8242-89b06b0ccfca');\n",
              "        const dataTable =\n",
              "          await google.colab.kernel.invokeFunction('convertToInteractive',\n",
              "                                                    [key], {});\n",
              "        if (!dataTable) return;\n",
              "\n",
              "        const docLinkHtml = 'Like what you see? Visit the ' +\n",
              "          '<a target=\"_blank\" href=https://colab.research.google.com/notebooks/data_table.ipynb>data table notebook</a>'\n",
              "          + ' to learn more about interactive tables.';\n",
              "        element.innerHTML = '';\n",
              "        dataTable['output_type'] = 'display_data';\n",
              "        await google.colab.output.renderOutput(dataTable, element);\n",
              "        const docLink = document.createElement('div');\n",
              "        docLink.innerHTML = docLinkHtml;\n",
              "        element.appendChild(docLink);\n",
              "      }\n",
              "    </script>\n",
              "  </div>\n",
              "\n",
              "\n",
              "<div id=\"df-8c728210-cfe0-476b-957e-c9fae25e2dad\">\n",
              "  <button class=\"colab-df-quickchart\" onclick=\"quickchart('df-8c728210-cfe0-476b-957e-c9fae25e2dad')\"\n",
              "            title=\"Suggest charts\"\n",
              "            style=\"display:none;\">\n",
              "\n",
              "<svg xmlns=\"http://www.w3.org/2000/svg\" height=\"24px\"viewBox=\"0 0 24 24\"\n",
              "     width=\"24px\">\n",
              "    <g>\n",
              "        <path d=\"M19 3H5c-1.1 0-2 .9-2 2v14c0 1.1.9 2 2 2h14c1.1 0 2-.9 2-2V5c0-1.1-.9-2-2-2zM9 17H7v-7h2v7zm4 0h-2V7h2v10zm4 0h-2v-4h2v4z\"/>\n",
              "    </g>\n",
              "</svg>\n",
              "  </button>\n",
              "\n",
              "<style>\n",
              "  .colab-df-quickchart {\n",
              "      --bg-color: #E8F0FE;\n",
              "      --fill-color: #1967D2;\n",
              "      --hover-bg-color: #E2EBFA;\n",
              "      --hover-fill-color: #174EA6;\n",
              "      --disabled-fill-color: #AAA;\n",
              "      --disabled-bg-color: #DDD;\n",
              "  }\n",
              "\n",
              "  [theme=dark] .colab-df-quickchart {\n",
              "      --bg-color: #3B4455;\n",
              "      --fill-color: #D2E3FC;\n",
              "      --hover-bg-color: #434B5C;\n",
              "      --hover-fill-color: #FFFFFF;\n",
              "      --disabled-bg-color: #3B4455;\n",
              "      --disabled-fill-color: #666;\n",
              "  }\n",
              "\n",
              "  .colab-df-quickchart {\n",
              "    background-color: var(--bg-color);\n",
              "    border: none;\n",
              "    border-radius: 50%;\n",
              "    cursor: pointer;\n",
              "    display: none;\n",
              "    fill: var(--fill-color);\n",
              "    height: 32px;\n",
              "    padding: 0;\n",
              "    width: 32px;\n",
              "  }\n",
              "\n",
              "  .colab-df-quickchart:hover {\n",
              "    background-color: var(--hover-bg-color);\n",
              "    box-shadow: 0 1px 2px rgba(60, 64, 67, 0.3), 0 1px 3px 1px rgba(60, 64, 67, 0.15);\n",
              "    fill: var(--button-hover-fill-color);\n",
              "  }\n",
              "\n",
              "  .colab-df-quickchart-complete:disabled,\n",
              "  .colab-df-quickchart-complete:disabled:hover {\n",
              "    background-color: var(--disabled-bg-color);\n",
              "    fill: var(--disabled-fill-color);\n",
              "    box-shadow: none;\n",
              "  }\n",
              "\n",
              "  .colab-df-spinner {\n",
              "    border: 2px solid var(--fill-color);\n",
              "    border-color: transparent;\n",
              "    border-bottom-color: var(--fill-color);\n",
              "    animation:\n",
              "      spin 1s steps(1) infinite;\n",
              "  }\n",
              "\n",
              "  @keyframes spin {\n",
              "    0% {\n",
              "      border-color: transparent;\n",
              "      border-bottom-color: var(--fill-color);\n",
              "      border-left-color: var(--fill-color);\n",
              "    }\n",
              "    20% {\n",
              "      border-color: transparent;\n",
              "      border-left-color: var(--fill-color);\n",
              "      border-top-color: var(--fill-color);\n",
              "    }\n",
              "    30% {\n",
              "      border-color: transparent;\n",
              "      border-left-color: var(--fill-color);\n",
              "      border-top-color: var(--fill-color);\n",
              "      border-right-color: var(--fill-color);\n",
              "    }\n",
              "    40% {\n",
              "      border-color: transparent;\n",
              "      border-right-color: var(--fill-color);\n",
              "      border-top-color: var(--fill-color);\n",
              "    }\n",
              "    60% {\n",
              "      border-color: transparent;\n",
              "      border-right-color: var(--fill-color);\n",
              "    }\n",
              "    80% {\n",
              "      border-color: transparent;\n",
              "      border-right-color: var(--fill-color);\n",
              "      border-bottom-color: var(--fill-color);\n",
              "    }\n",
              "    90% {\n",
              "      border-color: transparent;\n",
              "      border-bottom-color: var(--fill-color);\n",
              "    }\n",
              "  }\n",
              "</style>\n",
              "\n",
              "  <script>\n",
              "    async function quickchart(key) {\n",
              "      const quickchartButtonEl =\n",
              "        document.querySelector('#' + key + ' button');\n",
              "      quickchartButtonEl.disabled = true;  // To prevent multiple clicks.\n",
              "      quickchartButtonEl.classList.add('colab-df-spinner');\n",
              "      try {\n",
              "        const charts = await google.colab.kernel.invokeFunction(\n",
              "            'suggestCharts', [key], {});\n",
              "      } catch (error) {\n",
              "        console.error('Error during call to suggestCharts:', error);\n",
              "      }\n",
              "      quickchartButtonEl.classList.remove('colab-df-spinner');\n",
              "      quickchartButtonEl.classList.add('colab-df-quickchart-complete');\n",
              "    }\n",
              "    (() => {\n",
              "      let quickchartButtonEl =\n",
              "        document.querySelector('#df-8c728210-cfe0-476b-957e-c9fae25e2dad button');\n",
              "      quickchartButtonEl.style.display =\n",
              "        google.colab.kernel.accessAllowed ? 'block' : 'none';\n",
              "    })();\n",
              "  </script>\n",
              "</div>\n",
              "\n",
              "  <div id=\"id_dc599037-2390-4262-80e4-513dbd28afd1\">\n",
              "    <style>\n",
              "      .colab-df-generate {\n",
              "        background-color: #E8F0FE;\n",
              "        border: none;\n",
              "        border-radius: 50%;\n",
              "        cursor: pointer;\n",
              "        display: none;\n",
              "        fill: #1967D2;\n",
              "        height: 32px;\n",
              "        padding: 0 0 0 0;\n",
              "        width: 32px;\n",
              "      }\n",
              "\n",
              "      .colab-df-generate:hover {\n",
              "        background-color: #E2EBFA;\n",
              "        box-shadow: 0px 1px 2px rgba(60, 64, 67, 0.3), 0px 1px 3px 1px rgba(60, 64, 67, 0.15);\n",
              "        fill: #174EA6;\n",
              "      }\n",
              "\n",
              "      [theme=dark] .colab-df-generate {\n",
              "        background-color: #3B4455;\n",
              "        fill: #D2E3FC;\n",
              "      }\n",
              "\n",
              "      [theme=dark] .colab-df-generate:hover {\n",
              "        background-color: #434B5C;\n",
              "        box-shadow: 0px 1px 3px 1px rgba(0, 0, 0, 0.15);\n",
              "        filter: drop-shadow(0px 1px 2px rgba(0, 0, 0, 0.3));\n",
              "        fill: #FFFFFF;\n",
              "      }\n",
              "    </style>\n",
              "    <button class=\"colab-df-generate\" onclick=\"generateWithVariable('metrics')\"\n",
              "            title=\"Generate code using this dataframe.\"\n",
              "            style=\"display:none;\">\n",
              "\n",
              "  <svg xmlns=\"http://www.w3.org/2000/svg\" height=\"24px\"viewBox=\"0 0 24 24\"\n",
              "       width=\"24px\">\n",
              "    <path d=\"M7,19H8.4L18.45,9,17,7.55,7,17.6ZM5,21V16.75L18.45,3.32a2,2,0,0,1,2.83,0l1.4,1.43a1.91,1.91,0,0,1,.58,1.4,1.91,1.91,0,0,1-.58,1.4L9.25,21ZM18.45,9,17,7.55Zm-12,3A5.31,5.31,0,0,0,4.9,8.1,5.31,5.31,0,0,0,1,6.5,5.31,5.31,0,0,0,4.9,4.9,5.31,5.31,0,0,0,6.5,1,5.31,5.31,0,0,0,8.1,4.9,5.31,5.31,0,0,0,12,6.5,5.46,5.46,0,0,0,6.5,12Z\"/>\n",
              "  </svg>\n",
              "    </button>\n",
              "    <script>\n",
              "      (() => {\n",
              "      const buttonEl =\n",
              "        document.querySelector('#id_dc599037-2390-4262-80e4-513dbd28afd1 button.colab-df-generate');\n",
              "      buttonEl.style.display =\n",
              "        google.colab.kernel.accessAllowed ? 'block' : 'none';\n",
              "\n",
              "      buttonEl.onclick = () => {\n",
              "        google.colab.notebook.generateWithVariable('metrics');\n",
              "      }\n",
              "      })();\n",
              "    </script>\n",
              "  </div>\n",
              "\n",
              "    </div>\n",
              "  </div>\n"
            ],
            "application/vnd.google.colaboratory.intrinsic+json": {
              "type": "dataframe",
              "variable_name": "metrics",
              "summary": "{\n  \"name\": \"metrics\",\n  \"rows\": 7,\n  \"fields\": [\n    {\n      \"column\": \"accuracy\",\n      \"properties\": {\n        \"dtype\": \"number\",\n        \"std\": 0.10332790410971254,\n        \"min\": 0.12319999933242798,\n        \"max\": 0.4205250144004822,\n        \"num_unique_values\": 7,\n        \"samples\": [\n          0.12319999933242798,\n          0.2380249947309494,\n          0.3960750102996826\n        ],\n        \"semantic_type\": \"\",\n        \"description\": \"\"\n      }\n    },\n    {\n      \"column\": \"loss\",\n      \"properties\": {\n        \"dtype\": \"number\",\n        \"std\": 0.5423108609238201,\n        \"min\": 2.2432918548583984,\n        \"max\": 3.8090696334838867,\n        \"num_unique_values\": 7,\n        \"samples\": [\n          3.8090696334838867,\n          3.140380859375,\n          2.3568644523620605\n        ],\n        \"semantic_type\": \"\",\n        \"description\": \"\"\n      }\n    },\n    {\n      \"column\": \"val_accuracy\",\n      \"properties\": {\n        \"dtype\": \"number\",\n        \"std\": 0.037758963242878016,\n        \"min\": 0.1868000030517578,\n        \"max\": 0.29429998993873596,\n        \"num_unique_values\": 7,\n        \"samples\": [\n          0.1868000030517578,\n          0.2409999966621399,\n          0.29429998993873596\n        ],\n        \"semantic_type\": \"\",\n        \"description\": \"\"\n      }\n    },\n    {\n      \"column\": \"val_loss\",\n      \"properties\": {\n        \"dtype\": \"number\",\n        \"std\": 0.16052024261292444,\n        \"min\": 2.9455511569976807,\n        \"max\": 3.3998944759368896,\n        \"num_unique_values\": 7,\n        \"samples\": [\n          3.3998944759368896,\n          3.1185548305511475,\n          2.954024314880371\n        ],\n        \"semantic_type\": \"\",\n        \"description\": \"\"\n      }\n    }\n  ]\n}"
            }
          },
          "metadata": {},
          "execution_count": 71
        }
      ],
      "source": [
        "metrics"
      ]
    },
    {
      "cell_type": "code",
      "execution_count": 72,
      "metadata": {
        "colab": {
          "base_uri": "https://localhost:8080/",
          "height": 454
        },
        "id": "_yWJEf4jTEkb",
        "outputId": "9e5711d9-8a70-4559-99f2-b89a973a57a0"
      },
      "outputs": [
        {
          "output_type": "display_data",
          "data": {
            "text/plain": [
              "<Figure size 640x480 with 1 Axes>"
            ],
            "image/png": "[encoded data removed]"
          },
          "metadata": {}
        }
      ],
      "source": [
        "metrics[['loss', 'val_loss']].plot()\n",
        "plt.title('Training Loss Vs Validation Loss', fontsize=16)\n",
        "plt.show()"
      ]
    },
    {
      "cell_type": "code",
      "execution_count": 73,
      "metadata": {
        "colab": {
          "base_uri": "https://localhost:8080/",
          "height": 454
        },
        "id": "OFDFlErdTEkb",
        "outputId": "617ee967-8895-4d9e-c1f0-ce022ea0f629"
      },
      "outputs": [
        {
          "output_type": "display_data",
          "data": {
            "text/plain": [
              "<Figure size 640x480 with 1 Axes>"
            ],
            "image/png": "[encoded data removed]"
          },
          "metadata": {}
        }
      ],
      "source": [
        "metrics[['accuracy', 'val_accuracy']].plot()\n",
        "plt.title('Training Accuracy Vs Validation Accuracy', fontsize=16)\n",
        "plt.show()"
      ]
    },
    {
      "cell_type": "markdown",
      "metadata": {
        "id": "nW9E85UqTEkc"
      },
      "source": [
        "## Validating on Test Data"
      ]
    },
    {
      "cell_type": "code",
      "execution_count": 74,
      "metadata": {
        "colab": {
          "base_uri": "https://localhost:8080/"
        },
        "id": "V0Npu5dUTEkc",
        "outputId": "9ae5760a-98ba-4432-b8a1-6901981adc81"
      },
      "outputs": [
        {
          "output_type": "stream",
          "name": "stdout",
          "text": [
            "\u001b[1m313/313\u001b[0m \u001b[32m━━━━━━━━━━━━━━━━━━━━\u001b[0m\u001b[37m\u001b[0m \u001b[1m4s\u001b[0m 14ms/step - accuracy: 0.2998 - loss: 2.9729\n"
          ]
        },
        {
          "output_type": "execute_result",
          "data": {
            "text/plain": [
              "[2.9684512615203857, 0.29760000109672546]"
            ]
          },
          "metadata": {},
          "execution_count": 74
        }
      ],
      "source": [
        "model.evaluate(x_test,y_cat_test)"
      ]
    },
    {
      "cell_type": "markdown",
      "metadata": {
        "id": "oXRn6qRzTEkd"
      },
      "source": [
        "## Classification Report and Confusion Matrix"
      ]
    },
    {
      "cell_type": "code",
      "execution_count": 75,
      "metadata": {
        "id": "EBTRfGdPTEkd"
      },
      "outputs": [],
      "source": [
        "from sklearn.metrics import classification_report, confusion_matrix"
      ]
    },
    {
      "cell_type": "code",
      "execution_count": 76,
      "metadata": {
        "colab": {
          "base_uri": "https://localhost:8080/"
        },
        "id": "Q-ikAr_JTEke",
        "outputId": "6d964c92-c51e-4b4b-de51-8e15e9570091"
      },
      "outputs": [
        {
          "output_type": "stream",
          "name": "stdout",
          "text": [
            "\u001b[1m313/313\u001b[0m \u001b[32m━━━━━━━━━━━━━━━━━━━━\u001b[0m\u001b[37m\u001b[0m \u001b[1m3s\u001b[0m 11ms/step\n"
          ]
        }
      ],
      "source": [
        "#predictions = model.predict_classes(x_test)\n",
        "predictions = np.argmax(model.predict(x_test), axis=-1)"
      ]
    },
    {
      "cell_type": "code",
      "execution_count": 77,
      "metadata": {
        "colab": {
          "base_uri": "https://localhost:8080/"
        },
        "id": "-xZCj5qyTEke",
        "outputId": "86cbe6e9-627c-428d-ced1-a2e16ed18be0"
      },
      "outputs": [
        {
          "output_type": "stream",
          "name": "stdout",
          "text": [
            "              precision    recall  f1-score   support\n",
            "\n",
            "           0       0.58      0.57      0.57       100\n",
            "           1       0.43      0.38      0.40       100\n",
            "           2       0.25      0.27      0.26       100\n",
            "           3       0.16      0.19      0.17       100\n",
            "           4       0.12      0.09      0.10       100\n",
            "           5       0.20      0.28      0.24       100\n",
            "           6       0.43      0.30      0.36       100\n",
            "           7       0.34      0.38      0.36       100\n",
            "           8       0.68      0.25      0.36       100\n",
            "           9       0.56      0.35      0.43       100\n",
            "          10       0.13      0.13      0.13       100\n",
            "          11       0.17      0.11      0.13       100\n",
            "          12       0.24      0.23      0.23       100\n",
            "          13       0.26      0.30      0.28       100\n",
            "          14       0.33      0.22      0.26       100\n",
            "          15       0.17      0.11      0.13       100\n",
            "          16       0.40      0.32      0.35       100\n",
            "          17       0.30      0.63      0.41       100\n",
            "          18       0.22      0.11      0.15       100\n",
            "          19       0.35      0.15      0.21       100\n",
            "          20       0.52      0.51      0.52       100\n",
            "          21       0.38      0.52      0.44       100\n",
            "          22       0.22      0.16      0.19       100\n",
            "          23       0.34      0.59      0.43       100\n",
            "          24       0.50      0.60      0.55       100\n",
            "          25       0.22      0.24      0.23       100\n",
            "          26       0.29      0.19      0.23       100\n",
            "          27       0.21      0.27      0.23       100\n",
            "          28       0.32      0.53      0.40       100\n",
            "          29       0.42      0.33      0.37       100\n",
            "          30       0.14      0.44      0.21       100\n",
            "          31       0.18      0.32      0.23       100\n",
            "          32       0.52      0.11      0.18       100\n",
            "          33       0.41      0.26      0.32       100\n",
            "          34       0.32      0.13      0.18       100\n",
            "          35       0.13      0.18      0.15       100\n",
            "          36       0.24      0.29      0.26       100\n",
            "          37       0.19      0.15      0.17       100\n",
            "          38       0.11      0.20      0.14       100\n",
            "          39       0.39      0.28      0.33       100\n",
            "          40       0.21      0.35      0.27       100\n",
            "          41       0.58      0.53      0.55       100\n",
            "          42       0.26      0.20      0.23       100\n",
            "          43       0.36      0.20      0.26       100\n",
            "          44       0.20      0.12      0.15       100\n",
            "          45       0.16      0.09      0.12       100\n",
            "          46       0.27      0.15      0.19       100\n",
            "          47       0.39      0.42      0.41       100\n",
            "          48       0.63      0.40      0.49       100\n",
            "          49       0.33      0.32      0.32       100\n",
            "          50       0.23      0.05      0.08       100\n",
            "          51       0.18      0.31      0.23       100\n",
            "          52       0.55      0.59      0.57       100\n",
            "          53       0.47      0.47      0.47       100\n",
            "          54       0.52      0.30      0.38       100\n",
            "          55       0.09      0.05      0.06       100\n",
            "          56       0.43      0.40      0.42       100\n",
            "          57       0.25      0.36      0.29       100\n",
            "          58       0.46      0.24      0.32       100\n",
            "          59       0.26      0.13      0.17       100\n",
            "          60       0.43      0.73      0.54       100\n",
            "          61       0.43      0.42      0.42       100\n",
            "          62       0.44      0.49      0.46       100\n",
            "          63       0.18      0.29      0.23       100\n",
            "          64       0.09      0.05      0.06       100\n",
            "          65       0.16      0.27      0.20       100\n",
            "          66       0.17      0.20      0.18       100\n",
            "          67       0.22      0.28      0.25       100\n",
            "          68       0.35      0.70      0.47       100\n",
            "          69       0.44      0.48      0.46       100\n",
            "          70       0.39      0.30      0.34       100\n",
            "          71       0.49      0.58      0.53       100\n",
            "          72       0.18      0.09      0.12       100\n",
            "          73       0.24      0.39      0.30       100\n",
            "          74       0.21      0.12      0.15       100\n",
            "          75       0.50      0.66      0.57       100\n",
            "          76       0.32      0.65      0.43       100\n",
            "          77       0.17      0.14      0.16       100\n",
            "          78       0.26      0.06      0.10       100\n",
            "          79       0.43      0.21      0.28       100\n",
            "          80       0.08      0.12      0.09       100\n",
            "          81       0.33      0.21      0.26       100\n",
            "          82       0.61      0.60      0.60       100\n",
            "          83       0.26      0.12      0.16       100\n",
            "          84       0.11      0.14      0.12       100\n",
            "          85       0.50      0.33      0.40       100\n",
            "          86       0.33      0.36      0.34       100\n",
            "          87       0.22      0.50      0.31       100\n",
            "          88       0.35      0.06      0.10       100\n",
            "          89       0.48      0.22      0.30       100\n",
            "          90       0.32      0.14      0.19       100\n",
            "          91       0.40      0.38      0.39       100\n",
            "          92       0.14      0.05      0.07       100\n",
            "          93       0.15      0.23      0.18       100\n",
            "          94       0.56      0.69      0.62       100\n",
            "          95       0.27      0.34      0.30       100\n",
            "          96       0.28      0.31      0.29       100\n",
            "          97       0.24      0.29      0.26       100\n",
            "          98       0.09      0.03      0.05       100\n",
            "          99       0.17      0.18      0.17       100\n",
            "\n",
            "    accuracy                           0.30     10000\n",
            "   macro avg       0.31      0.30      0.29     10000\n",
            "weighted avg       0.31      0.30      0.29     10000\n",
            "\n"
          ]
        }
      ],
      "source": [
        "print(classification_report(y_test,predictions))"
      ]
    },
    {
      "cell_type": "code",
      "execution_count": 78,
      "metadata": {
        "colab": {
          "base_uri": "https://localhost:8080/"
        },
        "id": "qYckh12UTEke",
        "outputId": "8aba199b-7b7b-40f5-bcb9-e6f8918972f4"
      },
      "outputs": [
        {
          "output_type": "execute_result",
          "data": {
            "text/plain": [
              "array([[57,  1,  2, ...,  0,  0,  0],\n",
              "       [ 0, 38,  0, ...,  0,  0,  1],\n",
              "       [ 1,  0, 27, ...,  2,  1,  1],\n",
              "       ...,\n",
              "       [ 0,  1,  1, ..., 29,  0,  0],\n",
              "       [ 1,  1,  5, ...,  0,  3,  2],\n",
              "       [ 0,  0,  1, ...,  0,  0, 18]])"
            ]
          },
          "metadata": {},
          "execution_count": 78
        }
      ],
      "source": [
        "confusion_matrix(y_test,predictions)"
      ]
    },
    {
      "cell_type": "markdown",
      "metadata": {
        "id": "ACsFkMX_TEkf"
      },
      "source": [
        "# Predicting on single image"
      ]
    },
    {
      "cell_type": "code",
      "execution_count": 86,
      "metadata": {
        "colab": {
          "base_uri": "https://localhost:8080/",
          "height": 447
        },
        "id": "qYgDY6UVTEkf",
        "outputId": "4e2d0192-5bab-4c35-a59e-3a1464252969"
      },
      "outputs": [
        {
          "output_type": "execute_result",
          "data": {
            "text/plain": [
              "<matplotlib.image.AxesImage at 0x7a603f71ee00>"
            ]
          },
          "metadata": {},
          "execution_count": 86
        },
        {
          "output_type": "display_data",
          "data": {
            "text/plain": [
              "<Figure size 640x480 with 1 Axes>"
            ],
            "image/png": "[encoded data removed]"
          },
          "metadata": {}
        }
      ],
      "source": [
        "plt.imshow(x_test[80])"
      ]
    },
    {
      "cell_type": "code",
      "execution_count": 83,
      "metadata": {
        "id": "9OzSk1_RTEkg"
      },
      "outputs": [],
      "source": [
        "my_image = x_test[80]"
      ]
    },
    {
      "cell_type": "code",
      "execution_count": 84,
      "metadata": {
        "colab": {
          "base_uri": "https://localhost:8080/"
        },
        "id": "bWbAuyzXTEkg",
        "outputId": "13294fb2-b112-4351-e27c-5e9b0c84a4e2"
      },
      "outputs": [
        {
          "output_type": "stream",
          "name": "stdout",
          "text": [
            "\u001b[1m1/1\u001b[0m \u001b[32m━━━━━━━━━━━━━━━━━━━━\u001b[0m\u001b[37m\u001b[0m \u001b[1m0s\u001b[0m 21ms/step\n",
            "71\n"
          ]
        }
      ],
      "source": [
        "# SHAPE --> (num_images,width,height,color_channels)\n",
        "print(np.argmax(model.predict(my_image.reshape(1,32,32,3))))"
      ]
    },
    {
      "cell_type": "code",
      "execution_count": 85,
      "metadata": {
        "colab": {
          "base_uri": "https://localhost:8080/",
          "height": 53
        },
        "id": "44L8-JqHTEkh",
        "outputId": "4b54343c-e5ae-4c84-c449-ca7d18e80863"
      },
      "outputs": [
        {
          "output_type": "stream",
          "name": "stdout",
          "text": [
            "\u001b[1m1/1\u001b[0m \u001b[32m━━━━━━━━━━━━━━━━━━━━\u001b[0m\u001b[37m\u001b[0m \u001b[1m0s\u001b[0m 37ms/step\n"
          ]
        },
        {
          "output_type": "execute_result",
          "data": {
            "text/plain": [
              "'sea'"
            ],
            "application/vnd.google.colaboratory.intrinsic+json": {
              "type": "string"
            }
          },
          "metadata": {},
          "execution_count": 85
        }
      ],
      "source": [
        "LABEL_NAMES[np.argmax(model.predict(my_image.reshape(1,32,32,3)))]"
      ]
    },
    {
      "cell_type": "code",
      "execution_count": null,
      "metadata": {
        "id": "wepzGREqTEkh"
      },
      "outputs": [],
      "source": []
    }
  ],
  "metadata": {
    "kernelspec": {
      "display_name": "Python 3",
      "language": "python",
      "name": "python3"
    },
    "language_info": {
      "codemirror_mode": {
        "name": "ipython",
        "version": 3
      },
      "file_extension": ".py",
      "mimetype": "text/x-python",
      "name": "python",
      "nbconvert_exporter": "python",
      "pygments_lexer": "ipython3",
      "version": "3.10.2"
    },
    "colab": {
      "provenance": []
    }
  },
  "nbformat": 4,
  "nbformat_minor": 0
}
